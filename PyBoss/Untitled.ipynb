{
 "cells": [
  {
   "cell_type": "code",
   "execution_count": 1,
   "metadata": {
    "collapsed": true
   },
   "outputs": [],
   "source": [
    "import os \n",
    "import csv \n"
   ]
  },
  {
   "cell_type": "code",
   "execution_count": 2,
   "metadata": {
    "collapsed": true
   },
   "outputs": [],
   "source": [
    "pyboss_csv = os.path.join(\"employee_data1.csv\")"
   ]
  },
  {
   "cell_type": "code",
   "execution_count": 3,
   "metadata": {
    "collapsed": true
   },
   "outputs": [],
   "source": [
    "# list to store data \n",
    "empid = []\n",
    "name = []\n",
    "name_split = []\n",
    "first_name = []\n",
    "last_name = []\n",
    "dob = []\n",
    "social = []\n",
    "state = []"
   ]
  },
  {
   "cell_type": "code",
   "execution_count": 7,
   "metadata": {},
   "outputs": [
    {
     "name": "stdout",
     "output_type": "stream",
     "text": [
      "employee_data1.csv\n"
     ]
    }
   ],
   "source": [
    "\n",
    "with open(pyboss_csv, newline=\"\") as csvfile:\n",
    "    csvreader = csv.reader(csvfile, delimiter=\",\")\n",
    "   "
   ]
  },
  {
   "cell_type": "code",
   "execution_count": 6,
   "metadata": {},
   "outputs": [
    {
     "ename": "ValueError",
     "evalue": "I/O operation on closed file.",
     "output_type": "error",
     "traceback": [
      "\u001b[0;31m---------------------------------------------------------------------------\u001b[0m",
      "\u001b[0;31mValueError\u001b[0m                                Traceback (most recent call last)",
      "\u001b[0;32m<ipython-input-6-2f703c5464fc>\u001b[0m in \u001b[0;36m<module>\u001b[0;34m()\u001b[0m\n\u001b[0;32m----> 1\u001b[0;31m \u001b[0;32mfor\u001b[0m \u001b[0mrow\u001b[0m \u001b[0;32min\u001b[0m \u001b[0mcsvreader\u001b[0m\u001b[0;34m:\u001b[0m\u001b[0;34m\u001b[0m\u001b[0m\n\u001b[0m\u001b[1;32m      2\u001b[0m         \u001b[0;31m# Employee Id\u001b[0m\u001b[0;34m\u001b[0m\u001b[0;34m\u001b[0m\u001b[0m\n\u001b[1;32m      3\u001b[0m         \u001b[0mempid\u001b[0m\u001b[0;34m.\u001b[0m\u001b[0mappend\u001b[0m\u001b[0;34m(\u001b[0m\u001b[0mrow\u001b[0m\u001b[0;34m[\u001b[0m\u001b[0;36m0\u001b[0m\u001b[0;34m]\u001b[0m\u001b[0;34m)\u001b[0m\u001b[0;34m\u001b[0m\u001b[0m\n\u001b[1;32m      4\u001b[0m         \u001b[0;31m# Name\u001b[0m\u001b[0;34m\u001b[0m\u001b[0;34m\u001b[0m\u001b[0m\n\u001b[1;32m      5\u001b[0m         \u001b[0mname\u001b[0m\u001b[0;34m.\u001b[0m\u001b[0mappend\u001b[0m\u001b[0;34m(\u001b[0m\u001b[0mrow\u001b[0m\u001b[0;34m[\u001b[0m\u001b[0;36m1\u001b[0m\u001b[0;34m]\u001b[0m\u001b[0;34m)\u001b[0m\u001b[0;34m\u001b[0m\u001b[0m\n",
      "\u001b[0;31mValueError\u001b[0m: I/O operation on closed file."
     ]
    }
   ],
   "source": [
    "for row in csvreader:\n",
    "        # Employee Id \n",
    "        empid.append(row[0])\n",
    "        # Name\n",
    "        name.append(row[1])\n",
    "        for i in range(len(name)):\n",
    "                name = name[i]\n",
    "                name_split = name.split(' ')\n",
    "                first_name.append(name_split[0])\n",
    "                last_name.append(name_split[1])\n",
    "        \n",
    "print(empid, first_name, last_name)                  "
   ]
  },
  {
   "cell_type": "code",
   "execution_count": null,
   "metadata": {
    "collapsed": true
   },
   "outputs": [],
   "source": [
    "with open(pyboss_csv, newline=\"\") as csvfile:\n",
    "    csvreader=csv.reader(csvfile, delimiter=\",\")\n",
    "    next(csvreader, None)\n",
    "    for row in csvreader:    \n",
    "        EmpID.append(row[0])\n",
    "        name.append(row[1])\n",
    "        for i in range(len(name)):\n",
    "                name = name[i]\n",
    "                name1 = name.split(' ')\n",
    "                first_Name.append(name1[0])\n",
    "                last_Name.append(name1[1])\n",
    "                name1 = []\n",
    "        # dob.append(row[2])\n",
    "        # for j in range(len(dob)):\n",
    "        #         date_conversion = [j]\n",
    "        #         date_conversion.appendstrftime('%m/%d/%Y')  \n",
    "        #         date_conversion = []\n",
    "        # Social.append(row[3])\n",
    "        # State.append(row[4])\n",
    "# date_reformat = range(.appendstrftime('%m/%d/%Y'))\n",
    "  \n",
    "print(first_Name, last_Name) \n",
    "\n",
    "# DOB        \n",
    "#         dob.append(row[2])\n",
    "# # social security conversion                \n",
    "#         Social.append(row[3])\n",
    "#         split_ssn = list(row[\"Social\"])\n",
    "#         split_ssn[0:3] = (\"*\", \"*\", \"*\")\n",
    "#         split_ssn[4:6] = (\"*\", \"*\")\n",
    "#         joined_ssn = \"\".join(split_ssn)\n",
    "#         State.append(row[4])\n",
    "# # date_reformat = range(.appendstrftime('%m/%d/%Y'))\n",
    "#         date1 = datetime.datetime.strptime(dob, \"%Y-%m-%d\")\n",
    "#         date_conversion = date1.strftime(\"%m/%d/%Y\")\n",
    "  "
   ]
  }
 ],
 "metadata": {
  "kernelspec": {
   "display_name": "Python 3",
   "language": "python",
   "name": "python3"
  },
  "language_info": {
   "codemirror_mode": {
    "name": "ipython",
    "version": 3
   },
   "file_extension": ".py",
   "mimetype": "text/x-python",
   "name": "python",
   "nbconvert_exporter": "python",
   "pygments_lexer": "ipython3",
   "version": "3.6.1"
  }
 },
 "nbformat": 4,
 "nbformat_minor": 2
}
