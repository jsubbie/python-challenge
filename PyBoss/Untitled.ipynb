{
 "cells": [
  {
   "cell_type": "code",
   "execution_count": null,
   "metadata": {
    "collapsed": true
   },
   "outputs": [],
   "source": [
    "import os \n",
    "import csv \n"
   ]
  },
  {
   "cell_type": "code",
   "execution_count": null,
   "metadata": {
    "collapsed": true
   },
   "outputs": [],
   "source": [
    "pyboss_csv = os.path.join(\"employee_data1.csv\")"
   ]
  },
  {
   "cell_type": "code",
   "execution_count": null,
   "metadata": {
    "collapsed": true
   },
   "outputs": [],
   "source": [
    "# list to store data \n",
    "EmpID = []\n",
    "name = []\n",
    "name1 = []\n",
    "first_Name = []\n",
    "last_Name = []\n",
    "dob = []\n",
    "Social = []\n",
    "State = []"
   ]
  },
  {
   "cell_type": "code",
   "execution_count": null,
   "metadata": {
    "collapsed": true
   },
   "outputs": [],
   "source": [
    "with open(pyboss_csv, newline=\"\") as csvfile:\n",
    "    csvreader=csv.reader(csvfile, delimiter=\",\")\n",
    "    next(csvreader, None)\n",
    "    for row in csvreader:    \n",
    "        EmpID.append(row[0])\n",
    "        name.append(row[1])\n",
    "        for i in range(len(name)):\n",
    "                name = name[i]\n",
    "                name1 = name.split(' ')\n",
    "                first_Name.append(name1[0])\n",
    "                last_Name.append(name1[1])\n",
    "                name1 = []\n",
    "        # dob.append(row[2])\n",
    "        # for j in range(len(dob)):\n",
    "        #         date_conversion = [j]\n",
    "        #         date_conversion.appendstrftime('%m/%d/%Y')  \n",
    "        #         date_conversion = []\n",
    "        # Social.append(row[3])\n",
    "        # State.append(row[4])\n",
    "# date_reformat = range(.appendstrftime('%m/%d/%Y'))\n",
    "  \n",
    "print(first_Name, last_Name) \n",
    "\n",
    "# DOB        \n",
    "#         dob.append(row[2])\n",
    "# # social security conversion                \n",
    "#         Social.append(row[3])\n",
    "#         split_ssn = list(row[\"Social\"])\n",
    "#         split_ssn[0:3] = (\"*\", \"*\", \"*\")\n",
    "#         split_ssn[4:6] = (\"*\", \"*\")\n",
    "#         joined_ssn = \"\".join(split_ssn)\n",
    "#         State.append(row[4])\n",
    "# # date_reformat = range(.appendstrftime('%m/%d/%Y'))\n",
    "#         date1 = datetime.datetime.strptime(dob, \"%Y-%m-%d\")\n",
    "#         date_conversion = date1.strftime(\"%m/%d/%Y\")\n",
    "  "
   ]
  }
 ],
 "metadata": {
  "kernelspec": {
   "display_name": "Python 3",
   "language": "python",
   "name": "python3"
  },
  "language_info": {
   "codemirror_mode": {
    "name": "ipython",
    "version": 3
   },
   "file_extension": ".py",
   "mimetype": "text/x-python",
   "name": "python",
   "nbconvert_exporter": "python",
   "pygments_lexer": "ipython3",
   "version": "3.6.1"
  }
 },
 "nbformat": 4,
 "nbformat_minor": 2
}
